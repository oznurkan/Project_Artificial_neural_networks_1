{
  "nbformat": 4,
  "nbformat_minor": 0,
  "metadata": {
    "colab": {
      "provenance": []
    },
    "kernelspec": {
      "name": "python3",
      "display_name": "Python 3"
    },
    "language_info": {
      "name": "python"
    },
    "accelerator": "GPU",
    "gpuClass": "standard"
  },
  "cells": [
    {
      "cell_type": "markdown",
      "source": [],
      "metadata": {
        "id": "CGjbODJ5QmTQ"
      }
    },
    {
      "cell_type": "code",
      "source": [
        "import torch\n",
        "import torch.nn as nn\n",
        "\n",
        "torch.manual_seed(1)\n",
        "\n",
        "class MyModel(nn.Module):\n",
        "\n",
        "    def __init__(self):\n",
        "        super(MyModel, self).__init__()\n",
        "        self.hidden_layer = nn.Linear(3, 50)\n",
        "        self.output_layer = nn.Linear(50, 1)\n",
        "\n",
        "    def tanh(self, x):\n",
        "        return (torch.exp(x) - torch.exp(-x)) / (torch.exp(x) + torch.exp(-x))\n",
        "\n",
        "    def sigmoid(self, x):\n",
        "        return 1 / (1 + torch.exp(-x))\n",
        "\n",
        "    def forward(self, x):\n",
        "        out = self.hidden_layer(x)\n",
        "        out = self.tanh(out)\n",
        "        out = self.output_layer(out)\n",
        "        out = self.sigmoid(out)\n",
        "        return out\n",
        "\n",
        "X = torch.tensor([[1, 2, 3], [4, 5, 6]], dtype=torch.float32)\n",
        "model = MyModel()\n",
        "output = model(X)\n",
        "print(output.data)"
      ],
      "metadata": {
        "id": "5mHC620PH9Kj",
        "colab": {
          "base_uri": "https://localhost:8080/"
        },
        "outputId": "6d64ecae-5385-4193-d6de-94d10bd16beb"
      },
      "execution_count": 1,
      "outputs": [
        {
          "output_type": "stream",
          "name": "stdout",
          "text": [
            "tensor([[0.4892],\n",
            "        [0.5566]])\n"
          ]
        }
      ]
    },
    {
      "cell_type": "code",
      "source": [
        "import torch\n",
        "import torch.nn as nn\n",
        "\n",
        "torch.manual_seed(180401046)\n",
        "\n",
        "class MyModel(nn.Module):\n",
        "\n",
        "    def __init__(self):\n",
        "        super(MyModel, self).__init__()\n",
        "        self.hidden_layer = nn.Linear(3, 50)\n",
        "        self.output_layer = nn.Linear(50, 1)\n",
        "\n",
        "    def tanh(self, x):\n",
        "        return (torch.exp(x) - torch.exp(-x)) / (torch.exp(x) + torch.exp(-x))\n",
        "\n",
        "    def sigmoid(self, x):\n",
        "        return 1 / (1 + torch.exp(-x))\n",
        "\n",
        "    def forward(self, x):\n",
        "        out = self.hidden_layer(x)\n",
        "        out = self.tanh(out)\n",
        "        out = self.output_layer(out)\n",
        "        out = self.sigmoid(out)\n",
        "        return out\n",
        "\n",
        "X = torch.tensor([[1, 2, 3], [4, 5, 6]], dtype=torch.float32)\n",
        "model = MyModel()\n",
        "output = model(X)\n",
        "print(output.data)"
      ],
      "metadata": {
        "id": "hPoQmhLcH9SR",
        "colab": {
          "base_uri": "https://localhost:8080/"
        },
        "outputId": "7508325e-02df-41a1-93be-63bdb24c4f2b"
      },
      "execution_count": 2,
      "outputs": [
        {
          "output_type": "stream",
          "name": "stdout",
          "text": [
            "tensor([[0.3094],\n",
            "        [0.2490]])\n"
          ]
        }
      ]
    }
  ]
}